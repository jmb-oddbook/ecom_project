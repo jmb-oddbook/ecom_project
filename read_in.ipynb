{
 "cells": [
  {
   "cell_type": "code",
   "execution_count": 1,
   "metadata": {},
   "outputs": [],
   "source": [
    "#import libraries\n",
    "import pandas as pd\n",
    "import sqlite3\n",
    "import openpyxl"
   ]
  },
  {
   "cell_type": "code",
   "execution_count": 2,
   "metadata": {},
   "outputs": [],
   "source": [
    "# Import each sheet, first row as column headers\n",
    "products = pd.read_excel('sales original.xlsx', sheet_name='products', header=0)\n",
    "stock = pd.read_excel('sales original.xlsx', sheet_name='stock', header=0)\n",
    "assessment = pd.read_excel('sales original.xlsx', sheet_name='assessment', header=0)\n",
    "invoices = pd.read_excel('sales original.xlsx', sheet_name='invoices', header=0)\n",
    "customers = pd.read_excel('sales original.xlsx', sheet_name='customers', header=0)"
   ]
  },
  {
   "cell_type": "markdown",
   "metadata": {},
   "source": [
    "### Check the tables"
   ]
  },
  {
   "cell_type": "code",
   "execution_count": 3,
   "metadata": {},
   "outputs": [
    {
     "data": {
      "text/plain": [
       "StockCode    3942\n",
       "ASIN         4134\n",
       "dtype: int64"
      ]
     },
     "execution_count": 3,
     "metadata": {},
     "output_type": "execute_result"
    }
   ],
   "source": [
    "stock.nunique()"
   ]
  },
  {
   "cell_type": "markdown",
   "metadata": {},
   "source": [
    "Okay, this is a problem. Apparently there exist different ASIN with the same StockCode.<br />\n",
    "Question, are these just typos or do these products share the same physical stock space? Even if they share the same space, they should not have the same StockCode. Would make it difficult to rearrange just one of them or update number in stock."
   ]
  },
  {
   "cell_type": "code",
   "execution_count": 4,
   "metadata": {},
   "outputs": [
    {
     "data": {
      "text/plain": [
       "ASIN    657\n",
       "dtype: int64"
      ]
     },
     "execution_count": 4,
     "metadata": {},
     "output_type": "execute_result"
    }
   ],
   "source": [
    "out = stock.astype(str).groupby('StockCode').agg(lambda x: ', '.join(x.unique()))\n",
    "out = out.loc[out['ASIN'].str.len() > 10]\n",
    "out.count()"
   ]
  },
  {
   "cell_type": "markdown",
   "metadata": {},
   "source": [
    "657 StockCodes share two or more ASIN. Will this impact my choice of primary key? Don't think so. The combination of ASIN+StockCode would still be unique to a product. Only difficulty I see is if two products with a Null ASIN share the same StockCode but have a different title.<br />\n",
    "Let's check that."
   ]
  },
  {
   "cell_type": "code",
   "execution_count": 5,
   "metadata": {},
   "outputs": [],
   "source": [
    "products1 = products.copy()\n",
    "\n",
    "# Extract StockCode and insert into test copy of products\n",
    "extracted_col = stock['StockCode']\n",
    "products1.insert(1, 'StockCode', extracted_col)\n",
    "\n",
    "# Extract all the products with a Null ASIN\n",
    "null_products = products1.loc[products1['ASIN'] == 'Null']"
   ]
  },
  {
   "cell_type": "code",
   "execution_count": 6,
   "metadata": {},
   "outputs": [
    {
     "data": {
      "text/html": [
       "<div>\n",
       "<style scoped>\n",
       "    .dataframe tbody tr th:only-of-type {\n",
       "        vertical-align: middle;\n",
       "    }\n",
       "\n",
       "    .dataframe tbody tr th {\n",
       "        vertical-align: top;\n",
       "    }\n",
       "\n",
       "    .dataframe thead th {\n",
       "        text-align: right;\n",
       "    }\n",
       "</style>\n",
       "<table border=\"1\" class=\"dataframe\">\n",
       "  <thead>\n",
       "    <tr style=\"text-align: right;\">\n",
       "      <th></th>\n",
       "      <th>ASIN</th>\n",
       "      <th>StockCode</th>\n",
       "      <th>title</th>\n",
       "      <th>product_type</th>\n",
       "    </tr>\n",
       "  </thead>\n",
       "  <tbody>\n",
       "  </tbody>\n",
       "</table>\n",
       "</div>"
      ],
      "text/plain": [
       "Empty DataFrame\n",
       "Columns: [ASIN, StockCode, title, product_type]\n",
       "Index: []"
      ]
     },
     "execution_count": 6,
     "metadata": {},
     "output_type": "execute_result"
    }
   ],
   "source": [
    "# Show all products where the title is Null\n",
    "null_products.loc[null_products.title == 'Null']"
   ]
  },
  {
   "cell_type": "code",
   "execution_count": 7,
   "metadata": {},
   "outputs": [
    {
     "data": {
      "text/plain": [
       "ASIN             1\n",
       "StockCode       70\n",
       "title           64\n",
       "product_type     5\n",
       "dtype: int64"
      ]
     },
     "execution_count": 7,
     "metadata": {},
     "output_type": "execute_result"
    }
   ],
   "source": [
    "null_products.nunique()"
   ]
  },
  {
   "cell_type": "markdown",
   "metadata": {},
   "source": [
    "In the list of products with a Null ASIN all have a title. That is good. There are alo no products with no or a Null title.<br />\n",
    "But there are 70 different StockCodes and only 64 different titles. So some StockCodes are associated with the same title. That is not optimal but better than the other way around. This way the combination of ASIN+StockCode as a primary key will still work."
   ]
  },
  {
   "cell_type": "markdown",
   "metadata": {},
   "source": [
    "Assessment will be merged into the products table, because records were appended sequentially this is not problematic. If assessment contained distinct review records instead of aggregated values for each product the assessment table would have been kept."
   ]
  },
  {
   "cell_type": "markdown",
   "metadata": {},
   "source": [
    "The customers table contains a primary key already, but let's check for null values and if there are CustomerIDs that point to different countries."
   ]
  },
  {
   "cell_type": "code",
   "execution_count": 8,
   "metadata": {},
   "outputs": [
    {
     "data": {
      "text/html": [
       "<div>\n",
       "<style scoped>\n",
       "    .dataframe tbody tr th:only-of-type {\n",
       "        vertical-align: middle;\n",
       "    }\n",
       "\n",
       "    .dataframe tbody tr th {\n",
       "        vertical-align: top;\n",
       "    }\n",
       "\n",
       "    .dataframe thead th {\n",
       "        text-align: right;\n",
       "    }\n",
       "</style>\n",
       "<table border=\"1\" class=\"dataframe\">\n",
       "  <thead>\n",
       "    <tr style=\"text-align: right;\">\n",
       "      <th></th>\n",
       "      <th>CustomerID</th>\n",
       "      <th>Country</th>\n",
       "    </tr>\n",
       "  </thead>\n",
       "  <tbody>\n",
       "    <tr>\n",
       "      <th>11</th>\n",
       "      <td>Null</td>\n",
       "      <td>Germany</td>\n",
       "    </tr>\n",
       "    <tr>\n",
       "      <th>12</th>\n",
       "      <td>Null</td>\n",
       "      <td>Germany</td>\n",
       "    </tr>\n",
       "    <tr>\n",
       "      <th>13</th>\n",
       "      <td>Null</td>\n",
       "      <td>Germany</td>\n",
       "    </tr>\n",
       "    <tr>\n",
       "      <th>14</th>\n",
       "      <td>Null</td>\n",
       "      <td>Germany</td>\n",
       "    </tr>\n",
       "    <tr>\n",
       "      <th>15</th>\n",
       "      <td>Null</td>\n",
       "      <td>Germany</td>\n",
       "    </tr>\n",
       "    <tr>\n",
       "      <th>...</th>\n",
       "      <td>...</td>\n",
       "      <td>...</td>\n",
       "    </tr>\n",
       "    <tr>\n",
       "      <th>554375</th>\n",
       "      <td>Null</td>\n",
       "      <td>Germany</td>\n",
       "    </tr>\n",
       "    <tr>\n",
       "      <th>554376</th>\n",
       "      <td>Null</td>\n",
       "      <td>Germany</td>\n",
       "    </tr>\n",
       "    <tr>\n",
       "      <th>554377</th>\n",
       "      <td>Null</td>\n",
       "      <td>Germany</td>\n",
       "    </tr>\n",
       "    <tr>\n",
       "      <th>554378</th>\n",
       "      <td>Null</td>\n",
       "      <td>Germany</td>\n",
       "    </tr>\n",
       "    <tr>\n",
       "      <th>554379</th>\n",
       "      <td>Null</td>\n",
       "      <td>Germany</td>\n",
       "    </tr>\n",
       "  </tbody>\n",
       "</table>\n",
       "<p>139315 rows × 2 columns</p>\n",
       "</div>"
      ],
      "text/plain": [
       "       CustomerID  Country\n",
       "11           Null  Germany\n",
       "12           Null  Germany\n",
       "13           Null  Germany\n",
       "14           Null  Germany\n",
       "15           Null  Germany\n",
       "...           ...      ...\n",
       "554375       Null  Germany\n",
       "554376       Null  Germany\n",
       "554377       Null  Germany\n",
       "554378       Null  Germany\n",
       "554379       Null  Germany\n",
       "\n",
       "[139315 rows x 2 columns]"
      ]
     },
     "execution_count": 8,
     "metadata": {},
     "output_type": "execute_result"
    }
   ],
   "source": [
    "customers.loc[customers.CustomerID == 'Null']"
   ]
  },
  {
   "cell_type": "markdown",
   "metadata": {},
   "source": [
    "There are 139315 records in which the CustomerID is not known. This is not good. This means that invoices have a Null foreign key in place of the CustomerID and the invoice cannot be assigned to a customer.<br />\n",
    "I could resolve this by merging the tables invoices and customers, grouping by InvoiceNo and assigning a new value to CustomerID where Null appears in an invoice. Running the risk of assigning a new ID to an existing customer."
   ]
  },
  {
   "cell_type": "markdown",
   "metadata": {},
   "source": [
    "Are there any invoices that do not have an ID?"
   ]
  },
  {
   "cell_type": "code",
   "execution_count": 10,
   "metadata": {},
   "outputs": [
    {
     "data": {
      "text/html": [
       "<div>\n",
       "<style scoped>\n",
       "    .dataframe tbody tr th:only-of-type {\n",
       "        vertical-align: middle;\n",
       "    }\n",
       "\n",
       "    .dataframe tbody tr th {\n",
       "        vertical-align: top;\n",
       "    }\n",
       "\n",
       "    .dataframe thead th {\n",
       "        text-align: right;\n",
       "    }\n",
       "</style>\n",
       "<table border=\"1\" class=\"dataframe\">\n",
       "  <thead>\n",
       "    <tr style=\"text-align: right;\">\n",
       "      <th></th>\n",
       "      <th>InvoiceNo</th>\n",
       "      <th>ASIN</th>\n",
       "      <th>Quantity</th>\n",
       "      <th>price</th>\n",
       "      <th>total_sale</th>\n",
       "      <th>invoice_date</th>\n",
       "      <th>invoice_time</th>\n",
       "      <th>CustomerID</th>\n",
       "    </tr>\n",
       "  </thead>\n",
       "  <tbody>\n",
       "  </tbody>\n",
       "</table>\n",
       "</div>"
      ],
      "text/plain": [
       "Empty DataFrame\n",
       "Columns: [InvoiceNo, ASIN, Quantity, price, total_sale, invoice_date, invoice_time, CustomerID]\n",
       "Index: []"
      ]
     },
     "execution_count": 10,
     "metadata": {},
     "output_type": "execute_result"
    }
   ],
   "source": [
    "invoices.loc[invoices.InvoiceNo == 'Null']"
   ]
  },
  {
   "cell_type": "markdown",
   "metadata": {},
   "source": [
    "Thankfully there are no invoices that do not have an ID or are empty. Therefore customerIDs where there is a Null can be assigned a new ID based on an invoice.<br />\n",
    "But there are of course null ASINs in the invoices which cannot be assigned to a product."
   ]
  },
  {
   "cell_type": "markdown",
   "metadata": {},
   "source": [
    "### Modifications"
   ]
  },
  {
   "cell_type": "code",
   "execution_count": 9,
   "metadata": {},
   "outputs": [],
   "source": [
    "# In products: insert StockCode after ASIN to create a combined primary key\n",
    "extracted_col = stock['StockCode']\n",
    "products.insert(1, 'StockCode', extracted_col)\n",
    "\n",
    "# insert price of a single item\n",
    "extracted_col = invoices['price']\n",
    "products.insert(4, 'price', extracted_col)"
   ]
  },
  {
   "cell_type": "code",
   "execution_count": 10,
   "metadata": {},
   "outputs": [],
   "source": [
    "# In products: insert assessment; since there are no distinct reviews (with reviews) but only aggregated ones, it does not\n",
    "# make sense to keep them in a separate table\n",
    "products['rating'] = pd.Series(assessment['rating'])\n",
    "products['review_count'] = pd.Series(assessment['review_count'])"
   ]
  },
  {
   "cell_type": "code",
   "execution_count": 11,
   "metadata": {},
   "outputs": [
    {
     "data": {
      "text/plain": [
       "Index(['ASIN', 'StockCode', 'title', 'product_type', 'price', 'rating',\n",
       "       'review_count'],\n",
       "      dtype='object')"
      ]
     },
     "execution_count": 11,
     "metadata": {},
     "output_type": "execute_result"
    }
   ],
   "source": [
    "products.columns"
   ]
  },
  {
   "cell_type": "code",
   "execution_count": 13,
   "metadata": {},
   "outputs": [],
   "source": [
    "# Create a copy of invoices as a linking table to create a many-to-many relationship \n",
    "# between products and invoice.\n",
    "# Could probably do this with slice too\n",
    "invoice_product = invoices.copy()\n",
    "\n",
    "# In invoice_product: insert StockCode after ASIN to create a combined foreign key\n",
    "extracted_col = stock['StockCode']\n",
    "invoice_product.insert(2, 'StockCode', extracted_col)\n",
    "\n",
    "# Delete not needed columns\n",
    "invoice_product = invoice_product.drop(['invoice_date', 'invoice_time', 'CustomerID'], axis=1)"
   ]
  },
  {
   "cell_type": "code",
   "execution_count": 14,
   "metadata": {},
   "outputs": [],
   "source": [
    "# Delete columns from invoices now in invoice_products\n",
    "invoices = invoices.drop(['ASIN', 'Quantity', 'price', 'total_sale'], axis=1)\n"
   ]
  },
  {
   "cell_type": "code",
   "execution_count": 15,
   "metadata": {},
   "outputs": [],
   "source": [
    "# Transfer the customers table over to the invoice table\n",
    "invoices['CustomerID'] = pd.Series(customers['CustomerID'])\n",
    "invoices['Country'] = pd.Series(customers['Country'])"
   ]
  },
  {
   "cell_type": "markdown",
   "metadata": {},
   "source": [
    "Begin: Testing the customerID assignment"
   ]
  },
  {
   "cell_type": "code",
   "execution_count": 16,
   "metadata": {},
   "outputs": [],
   "source": [
    "invoices1 = invoices.copy()"
   ]
  },
  {
   "cell_type": "code",
   "execution_count": 17,
   "metadata": {},
   "outputs": [],
   "source": [
    "# Show me the invoices that do not have a CustomerID\n",
    "null_invoice = invoices1.loc[invoices1.CustomerID == 'Null']"
   ]
  },
  {
   "cell_type": "code",
   "execution_count": 18,
   "metadata": {},
   "outputs": [],
   "source": [
    "# Assign 9+last four digits of invoice number to CustomerID == Null\n",
    "# That way we can keep the invoices with Null CUstomers and assign a \"temporary\" ID to Null Customers\n",
    "for index, row in invoices1.iterrows():\n",
    "    if row['CustomerID'] == 'Null':\n",
    "        invoices1.at[index, 'CustomerID'] = '9' + str(row['InvoiceNo'])[-4:]\n"
   ]
  },
  {
   "cell_type": "code",
   "execution_count": 19,
   "metadata": {},
   "outputs": [
    {
     "data": {
      "text/html": [
       "<div>\n",
       "<style scoped>\n",
       "    .dataframe tbody tr th:only-of-type {\n",
       "        vertical-align: middle;\n",
       "    }\n",
       "\n",
       "    .dataframe tbody tr th {\n",
       "        vertical-align: top;\n",
       "    }\n",
       "\n",
       "    .dataframe thead th {\n",
       "        text-align: right;\n",
       "    }\n",
       "</style>\n",
       "<table border=\"1\" class=\"dataframe\">\n",
       "  <thead>\n",
       "    <tr style=\"text-align: right;\">\n",
       "      <th></th>\n",
       "      <th>InvoiceNo</th>\n",
       "      <th>CustomerID</th>\n",
       "      <th>count</th>\n",
       "    </tr>\n",
       "  </thead>\n",
       "  <tbody>\n",
       "    <tr>\n",
       "      <th>0</th>\n",
       "      <td>78536544</td>\n",
       "      <td>96544</td>\n",
       "      <td>551</td>\n",
       "    </tr>\n",
       "    <tr>\n",
       "      <th>1</th>\n",
       "      <td>78536555</td>\n",
       "      <td>96555</td>\n",
       "      <td>2</td>\n",
       "    </tr>\n",
       "    <tr>\n",
       "      <th>2</th>\n",
       "      <td>78536558</td>\n",
       "      <td>96558</td>\n",
       "      <td>1</td>\n",
       "    </tr>\n",
       "    <tr>\n",
       "      <th>3</th>\n",
       "      <td>78536565</td>\n",
       "      <td>96565</td>\n",
       "      <td>2</td>\n",
       "    </tr>\n",
       "    <tr>\n",
       "      <th>4</th>\n",
       "      <td>78536592</td>\n",
       "      <td>96592</td>\n",
       "      <td>618</td>\n",
       "    </tr>\n",
       "    <tr>\n",
       "      <th>...</th>\n",
       "      <td>...</td>\n",
       "      <td>...</td>\n",
       "      <td>...</td>\n",
       "    </tr>\n",
       "    <tr>\n",
       "      <th>2045</th>\n",
       "      <td>78581497</td>\n",
       "      <td>91497</td>\n",
       "      <td>60</td>\n",
       "    </tr>\n",
       "    <tr>\n",
       "      <th>2046</th>\n",
       "      <td>78581498</td>\n",
       "      <td>91498</td>\n",
       "      <td>233</td>\n",
       "    </tr>\n",
       "    <tr>\n",
       "      <th>2047</th>\n",
       "      <td>78A563185</td>\n",
       "      <td>93185</td>\n",
       "      <td>1</td>\n",
       "    </tr>\n",
       "    <tr>\n",
       "      <th>2048</th>\n",
       "      <td>78A563186</td>\n",
       "      <td>93186</td>\n",
       "      <td>1</td>\n",
       "    </tr>\n",
       "    <tr>\n",
       "      <th>2049</th>\n",
       "      <td>78A563187</td>\n",
       "      <td>93187</td>\n",
       "      <td>1</td>\n",
       "    </tr>\n",
       "  </tbody>\n",
       "</table>\n",
       "<p>2050 rows × 3 columns</p>\n",
       "</div>"
      ],
      "text/plain": [
       "      InvoiceNo CustomerID  count\n",
       "0      78536544      96544    551\n",
       "1      78536555      96555      2\n",
       "2      78536558      96558      1\n",
       "3      78536565      96565      2\n",
       "4      78536592      96592    618\n",
       "...         ...        ...    ...\n",
       "2045   78581497      91497     60\n",
       "2046   78581498      91498    233\n",
       "2047  78A563185      93185      1\n",
       "2048  78A563186      93186      1\n",
       "2049  78A563187      93187      1\n",
       "\n",
       "[2050 rows x 3 columns]"
      ]
     },
     "execution_count": 19,
     "metadata": {},
     "output_type": "execute_result"
    }
   ],
   "source": [
    "# Check and compare null_invoice to the newly assigned\n",
    "new_df = invoices1.loc[invoices1['CustomerID'].str.startswith('9', na=False)].copy()\n",
    "new_df.groupby(['InvoiceNo', 'CustomerID']).size().reset_index().rename(columns={0:'count'})"
   ]
  },
  {
   "cell_type": "code",
   "execution_count": 20,
   "metadata": {},
   "outputs": [
    {
     "data": {
      "text/html": [
       "<div>\n",
       "<style scoped>\n",
       "    .dataframe tbody tr th:only-of-type {\n",
       "        vertical-align: middle;\n",
       "    }\n",
       "\n",
       "    .dataframe tbody tr th {\n",
       "        vertical-align: top;\n",
       "    }\n",
       "\n",
       "    .dataframe thead th {\n",
       "        text-align: right;\n",
       "    }\n",
       "</style>\n",
       "<table border=\"1\" class=\"dataframe\">\n",
       "  <thead>\n",
       "    <tr style=\"text-align: right;\">\n",
       "      <th></th>\n",
       "      <th>InvoiceNo</th>\n",
       "      <th>CustomerID</th>\n",
       "      <th>count</th>\n",
       "    </tr>\n",
       "  </thead>\n",
       "  <tbody>\n",
       "    <tr>\n",
       "      <th>0</th>\n",
       "      <td>78536544</td>\n",
       "      <td>Null</td>\n",
       "      <td>551</td>\n",
       "    </tr>\n",
       "    <tr>\n",
       "      <th>1</th>\n",
       "      <td>78536555</td>\n",
       "      <td>Null</td>\n",
       "      <td>2</td>\n",
       "    </tr>\n",
       "    <tr>\n",
       "      <th>2</th>\n",
       "      <td>78536558</td>\n",
       "      <td>Null</td>\n",
       "      <td>1</td>\n",
       "    </tr>\n",
       "    <tr>\n",
       "      <th>3</th>\n",
       "      <td>78536565</td>\n",
       "      <td>Null</td>\n",
       "      <td>2</td>\n",
       "    </tr>\n",
       "    <tr>\n",
       "      <th>4</th>\n",
       "      <td>78536592</td>\n",
       "      <td>Null</td>\n",
       "      <td>618</td>\n",
       "    </tr>\n",
       "    <tr>\n",
       "      <th>...</th>\n",
       "      <td>...</td>\n",
       "      <td>...</td>\n",
       "      <td>...</td>\n",
       "    </tr>\n",
       "    <tr>\n",
       "      <th>2045</th>\n",
       "      <td>78581497</td>\n",
       "      <td>Null</td>\n",
       "      <td>60</td>\n",
       "    </tr>\n",
       "    <tr>\n",
       "      <th>2046</th>\n",
       "      <td>78581498</td>\n",
       "      <td>Null</td>\n",
       "      <td>233</td>\n",
       "    </tr>\n",
       "    <tr>\n",
       "      <th>2047</th>\n",
       "      <td>78A563185</td>\n",
       "      <td>Null</td>\n",
       "      <td>1</td>\n",
       "    </tr>\n",
       "    <tr>\n",
       "      <th>2048</th>\n",
       "      <td>78A563186</td>\n",
       "      <td>Null</td>\n",
       "      <td>1</td>\n",
       "    </tr>\n",
       "    <tr>\n",
       "      <th>2049</th>\n",
       "      <td>78A563187</td>\n",
       "      <td>Null</td>\n",
       "      <td>1</td>\n",
       "    </tr>\n",
       "  </tbody>\n",
       "</table>\n",
       "<p>2050 rows × 3 columns</p>\n",
       "</div>"
      ],
      "text/plain": [
       "      InvoiceNo CustomerID  count\n",
       "0      78536544       Null    551\n",
       "1      78536555       Null      2\n",
       "2      78536558       Null      1\n",
       "3      78536565       Null      2\n",
       "4      78536592       Null    618\n",
       "...         ...        ...    ...\n",
       "2045   78581497       Null     60\n",
       "2046   78581498       Null    233\n",
       "2047  78A563185       Null      1\n",
       "2048  78A563186       Null      1\n",
       "2049  78A563187       Null      1\n",
       "\n",
       "[2050 rows x 3 columns]"
      ]
     },
     "execution_count": 20,
     "metadata": {},
     "output_type": "execute_result"
    }
   ],
   "source": [
    "null_invoice.groupby(['InvoiceNo', 'CustomerID']).size().reset_index().rename(columns={0:'count'})"
   ]
  },
  {
   "cell_type": "markdown",
   "metadata": {},
   "source": [
    "End: Testing the customerID assignment"
   ]
  },
  {
   "cell_type": "code",
   "execution_count": 21,
   "metadata": {},
   "outputs": [],
   "source": [
    "# Assign temporary IDs to Null CustomerIDs in invoices with an initial 9\n",
    "# Why the trouble? Each invoice with a Null customerID can now be associated with an\n",
    "# individual Null customer instead of lumping all Nulls together (n.b. will screw up \n",
    "# your country analysis). If that customer already had an ID or has another invoice \n",
    "# as Null is irrelevant. This way we do not have to discard the Null records in invoice\n",
    "# and customers.\n",
    "for index, row in invoices.iterrows():\n",
    "    if row['CustomerID'] == 'Null':\n",
    "        invoices.at[index, 'CustomerID'] = '9' + str(row['InvoiceNo'])[-4:]"
   ]
  },
  {
   "cell_type": "code",
   "execution_count": 22,
   "metadata": {},
   "outputs": [],
   "source": [
    "# Transfer the customers back over to the customer table\n",
    "customers['CustomerID'] = pd.Series(invoices['CustomerID'])\n",
    "customers['Country'] = pd.Series(invoices['Country'])\n",
    "\n",
    "# And drop the customers' country in the invoices table\n",
    "invoices = invoices.drop(['Country'], axis=1)"
   ]
  },
  {
   "cell_type": "code",
   "execution_count": 23,
   "metadata": {},
   "outputs": [],
   "source": [
    "# in stock: drop ASIN, delete duplicates\n",
    "# in assessment: drop entire dataframe\n",
    "# in products: delete duplicates\n",
    "# in customers: delete duplicates\n",
    "# in invoices: delete duplicates\n",
    "# in invoice_product: delete duplicates, delete price"
   ]
  },
  {
   "cell_type": "code",
   "execution_count": 24,
   "metadata": {},
   "outputs": [],
   "source": [
    "stock = stock.drop(['ASIN'], axis=1)\n",
    "stock = stock.drop_duplicates()\n",
    "\n",
    "products = products.drop_duplicates()\n",
    "\n",
    "customers = customers.drop_duplicates()\n",
    "\n",
    "invoices = invoices.drop_duplicates()\n",
    "\n",
    "invoice_product = invoice_product.drop_duplicates()\n",
    "invoice_product = invoice_product.drop(['price'], axis=1)"
   ]
  },
  {
   "cell_type": "markdown",
   "metadata": {},
   "source": [
    "Write the dataframes stock, products, customers, invoices, invoice_product to a database.<br />\n",
    "First try SQLite and then try mySQL."
   ]
  }
 ],
 "metadata": {
  "interpreter": {
   "hash": "b5cfa023891fceef02537f80a4c6e95b77988fb973cdb16a51cdb785092210be"
  },
  "kernelspec": {
   "display_name": "Python 3.9.7",
   "language": "python",
   "name": "python3"
  },
  "language_info": {
   "codemirror_mode": {
    "name": "ipython",
    "version": 3
   },
   "file_extension": ".py",
   "mimetype": "text/x-python",
   "name": "python",
   "nbconvert_exporter": "python",
   "pygments_lexer": "ipython3",
   "version": "3.9.7"
  },
  "orig_nbformat": 4
 },
 "nbformat": 4,
 "nbformat_minor": 2
}
