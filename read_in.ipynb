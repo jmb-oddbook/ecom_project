{
 "cells": [
  {
   "cell_type": "code",
   "execution_count": 1,
   "metadata": {},
   "outputs": [],
   "source": [
    "#import libraries\n",
    "import pandas as pd\n",
    "import sqlite3\n",
    "#import openpyxl"
   ]
  },
  {
   "cell_type": "code",
   "execution_count": 3,
   "metadata": {},
   "outputs": [],
   "source": [
    "# Import each sheet, first row as column headers\n",
    "products = pd.read_excel('data/sales original.xlsx', sheet_name='products', header=0)\n",
    "stock = pd.read_excel('data/sales original.xlsx', sheet_name='stock', header=0)\n",
    "assessment = pd.read_excel('data/sales original.xlsx', sheet_name='assessment', header=0)\n",
    "invoices = pd.read_excel('data/sales original.xlsx', sheet_name='invoices', header=0)\n",
    "customers = pd.read_excel('data/sales original.xlsx', sheet_name='customers', header=0)"
   ]
  },
  {
   "cell_type": "markdown",
   "metadata": {},
   "source": [
    "### Check the tables"
   ]
  },
  {
   "cell_type": "code",
   "execution_count": 22,
   "metadata": {},
   "outputs": [
    {
     "data": {
      "text/plain": [
       "StockCode    3942\n",
       "ASIN         4134\n",
       "dtype: int64"
      ]
     },
     "execution_count": 22,
     "metadata": {},
     "output_type": "execute_result"
    }
   ],
   "source": [
    "stock.nunique()"
   ]
  },
  {
   "cell_type": "markdown",
   "metadata": {},
   "source": [
    "Okay, this is a problem. Apparently there are different ASIN with the same StockCode.<br />\n",
    "Question, are these just typos or do these products share the same physical stock space? Even if they share the same space, they should not have the same StockCode. Would make it difficult to rearrange just one of them or update number in stock."
   ]
  },
  {
   "cell_type": "code",
   "execution_count": 23,
   "metadata": {},
   "outputs": [
    {
     "data": {
      "text/html": [
       "<div>\n",
       "<style scoped>\n",
       "    .dataframe tbody tr th:only-of-type {\n",
       "        vertical-align: middle;\n",
       "    }\n",
       "\n",
       "    .dataframe tbody tr th {\n",
       "        vertical-align: top;\n",
       "    }\n",
       "\n",
       "    .dataframe thead th {\n",
       "        text-align: right;\n",
       "    }\n",
       "</style>\n",
       "<table border=\"1\" class=\"dataframe\">\n",
       "  <thead>\n",
       "    <tr style=\"text-align: right;\">\n",
       "      <th></th>\n",
       "      <th>ASIN</th>\n",
       "    </tr>\n",
       "    <tr>\n",
       "      <th>StockCode</th>\n",
       "      <th></th>\n",
       "    </tr>\n",
       "  </thead>\n",
       "  <tbody>\n",
       "    <tr>\n",
       "      <th>10080</th>\n",
       "      <td>B07D9D82R7, B000L47AHG</td>\n",
       "    </tr>\n",
       "    <tr>\n",
       "      <th>10133</th>\n",
       "      <td>B074VB8VT5, B07CM7N7TG</td>\n",
       "    </tr>\n",
       "    <tr>\n",
       "      <th>15058A</th>\n",
       "      <td>B0189228CS, B07D263CHY</td>\n",
       "    </tr>\n",
       "    <tr>\n",
       "      <th>15058C</th>\n",
       "      <td>B07NQMD216, B07D263CHY</td>\n",
       "    </tr>\n",
       "    <tr>\n",
       "      <th>16008</th>\n",
       "      <td>B016NDCXKM, B000L47AHG</td>\n",
       "    </tr>\n",
       "    <tr>\n",
       "      <th>...</th>\n",
       "      <td>...</td>\n",
       "    </tr>\n",
       "    <tr>\n",
       "      <th>90195A</th>\n",
       "      <td>B07JCKZ3RC, B000L47AHG</td>\n",
       "    </tr>\n",
       "    <tr>\n",
       "      <th>90210D</th>\n",
       "      <td>B07L9B57G5, B000L47AHG</td>\n",
       "    </tr>\n",
       "    <tr>\n",
       "      <th>DCGS0003</th>\n",
       "      <td>B07DNV7GJL, B07PQ8S46W</td>\n",
       "    </tr>\n",
       "    <tr>\n",
       "      <th>DCGS0069</th>\n",
       "      <td>B0754DLLMK, B07PQ8S46W</td>\n",
       "    </tr>\n",
       "    <tr>\n",
       "      <th>gift_0001_20</th>\n",
       "      <td>B01JB24C2O, B07C4TLPQN</td>\n",
       "    </tr>\n",
       "  </tbody>\n",
       "</table>\n",
       "<p>657 rows × 1 columns</p>\n",
       "</div>"
      ],
      "text/plain": [
       "                                ASIN\n",
       "StockCode                           \n",
       "10080         B07D9D82R7, B000L47AHG\n",
       "10133         B074VB8VT5, B07CM7N7TG\n",
       "15058A        B0189228CS, B07D263CHY\n",
       "15058C        B07NQMD216, B07D263CHY\n",
       "16008         B016NDCXKM, B000L47AHG\n",
       "...                              ...\n",
       "90195A        B07JCKZ3RC, B000L47AHG\n",
       "90210D        B07L9B57G5, B000L47AHG\n",
       "DCGS0003      B07DNV7GJL, B07PQ8S46W\n",
       "DCGS0069      B0754DLLMK, B07PQ8S46W\n",
       "gift_0001_20  B01JB24C2O, B07C4TLPQN\n",
       "\n",
       "[657 rows x 1 columns]"
      ]
     },
     "execution_count": 23,
     "metadata": {},
     "output_type": "execute_result"
    }
   ],
   "source": [
    "# Show the different unique ASINs associated with a StockCode\n",
    "out = stock.astype(str).groupby('StockCode').agg(lambda x: ', '.join(x.unique()))\n",
    "\n",
    "# but only those that contain more than one ASIN\n",
    "out = out.loc[out['ASIN'].str.len() > 10]\n",
    "out#.count()"
   ]
  },
  {
   "cell_type": "markdown",
   "metadata": {},
   "source": [
    "657 StockCodes share two or more ASIN. Will this impact my choice of primary key? Don't think so. The combination of ASIN+StockCode would still be unique to a product. Only difficulty I see is if two products with a Null ASIN share the same StockCode but have a different title.<br />\n",
    "Let's check that."
   ]
  },
  {
   "cell_type": "code",
   "execution_count": 24,
   "metadata": {},
   "outputs": [],
   "source": [
    "products1 = products.copy()\n",
    "\n",
    "# Extract StockCode and insert into test copy of products\n",
    "extracted_col = stock['StockCode']\n",
    "products1.insert(1, 'StockCode', extracted_col)\n",
    "\n",
    "# Extract all the products with a Null ASIN\n",
    "null_products = products1.loc[products1['ASIN'] == 'Null']"
   ]
  },
  {
   "cell_type": "code",
   "execution_count": 25,
   "metadata": {},
   "outputs": [
    {
     "data": {
      "text/html": [
       "<div>\n",
       "<style scoped>\n",
       "    .dataframe tbody tr th:only-of-type {\n",
       "        vertical-align: middle;\n",
       "    }\n",
       "\n",
       "    .dataframe tbody tr th {\n",
       "        vertical-align: top;\n",
       "    }\n",
       "\n",
       "    .dataframe thead th {\n",
       "        text-align: right;\n",
       "    }\n",
       "</style>\n",
       "<table border=\"1\" class=\"dataframe\">\n",
       "  <thead>\n",
       "    <tr style=\"text-align: right;\">\n",
       "      <th></th>\n",
       "      <th>ASIN</th>\n",
       "      <th>StockCode</th>\n",
       "      <th>title</th>\n",
       "      <th>product_type</th>\n",
       "    </tr>\n",
       "  </thead>\n",
       "  <tbody>\n",
       "  </tbody>\n",
       "</table>\n",
       "</div>"
      ],
      "text/plain": [
       "Empty DataFrame\n",
       "Columns: [ASIN, StockCode, title, product_type]\n",
       "Index: []"
      ]
     },
     "execution_count": 25,
     "metadata": {},
     "output_type": "execute_result"
    }
   ],
   "source": [
    "# Show all products where the title is Null\n",
    "null_products.loc[null_products.title == 'Null']"
   ]
  },
  {
   "cell_type": "code",
   "execution_count": 26,
   "metadata": {},
   "outputs": [
    {
     "data": {
      "text/plain": [
       "ASIN             1\n",
       "StockCode       70\n",
       "title           64\n",
       "product_type     5\n",
       "dtype: int64"
      ]
     },
     "execution_count": 26,
     "metadata": {},
     "output_type": "execute_result"
    }
   ],
   "source": [
    "null_products.nunique()"
   ]
  },
  {
   "cell_type": "markdown",
   "metadata": {},
   "source": [
    "In the list of products with a Null ASIN all have a title. That is good. There are alo no products with no or a Null title.<br />\n",
    "But there are 70 different StockCodes and only 64 different titles. So some StockCodes are associated with the same title. That is not optimal but better than the other way around. This way the combination of ASIN+StockCode as a primary key will still work."
   ]
  },
  {
   "cell_type": "markdown",
   "metadata": {},
   "source": [
    "Assessment will be merged into the products table, because records were appended sequentially this is not problematic. If assessment contained distinct review records instead of aggregated values for each product the assessment table would have been kept."
   ]
  },
  {
   "cell_type": "markdown",
   "metadata": {},
   "source": [
    "The customers table contains a primary key already, but let's check for null values and if there are CustomerIDs that point to different countries."
   ]
  },
  {
   "cell_type": "code",
   "execution_count": 27,
   "metadata": {},
   "outputs": [
    {
     "data": {
      "text/html": [
       "<div>\n",
       "<style scoped>\n",
       "    .dataframe tbody tr th:only-of-type {\n",
       "        vertical-align: middle;\n",
       "    }\n",
       "\n",
       "    .dataframe tbody tr th {\n",
       "        vertical-align: top;\n",
       "    }\n",
       "\n",
       "    .dataframe thead th {\n",
       "        text-align: right;\n",
       "    }\n",
       "</style>\n",
       "<table border=\"1\" class=\"dataframe\">\n",
       "  <thead>\n",
       "    <tr style=\"text-align: right;\">\n",
       "      <th></th>\n",
       "      <th>CustomerID</th>\n",
       "      <th>Country</th>\n",
       "    </tr>\n",
       "  </thead>\n",
       "  <tbody>\n",
       "    <tr>\n",
       "      <th>11</th>\n",
       "      <td>Null</td>\n",
       "      <td>Germany</td>\n",
       "    </tr>\n",
       "    <tr>\n",
       "      <th>12</th>\n",
       "      <td>Null</td>\n",
       "      <td>Germany</td>\n",
       "    </tr>\n",
       "    <tr>\n",
       "      <th>13</th>\n",
       "      <td>Null</td>\n",
       "      <td>Germany</td>\n",
       "    </tr>\n",
       "    <tr>\n",
       "      <th>14</th>\n",
       "      <td>Null</td>\n",
       "      <td>Germany</td>\n",
       "    </tr>\n",
       "    <tr>\n",
       "      <th>15</th>\n",
       "      <td>Null</td>\n",
       "      <td>Germany</td>\n",
       "    </tr>\n",
       "    <tr>\n",
       "      <th>...</th>\n",
       "      <td>...</td>\n",
       "      <td>...</td>\n",
       "    </tr>\n",
       "    <tr>\n",
       "      <th>554375</th>\n",
       "      <td>Null</td>\n",
       "      <td>Germany</td>\n",
       "    </tr>\n",
       "    <tr>\n",
       "      <th>554376</th>\n",
       "      <td>Null</td>\n",
       "      <td>Germany</td>\n",
       "    </tr>\n",
       "    <tr>\n",
       "      <th>554377</th>\n",
       "      <td>Null</td>\n",
       "      <td>Germany</td>\n",
       "    </tr>\n",
       "    <tr>\n",
       "      <th>554378</th>\n",
       "      <td>Null</td>\n",
       "      <td>Germany</td>\n",
       "    </tr>\n",
       "    <tr>\n",
       "      <th>554379</th>\n",
       "      <td>Null</td>\n",
       "      <td>Germany</td>\n",
       "    </tr>\n",
       "  </tbody>\n",
       "</table>\n",
       "<p>139315 rows × 2 columns</p>\n",
       "</div>"
      ],
      "text/plain": [
       "       CustomerID  Country\n",
       "11           Null  Germany\n",
       "12           Null  Germany\n",
       "13           Null  Germany\n",
       "14           Null  Germany\n",
       "15           Null  Germany\n",
       "...           ...      ...\n",
       "554375       Null  Germany\n",
       "554376       Null  Germany\n",
       "554377       Null  Germany\n",
       "554378       Null  Germany\n",
       "554379       Null  Germany\n",
       "\n",
       "[139315 rows x 2 columns]"
      ]
     },
     "execution_count": 27,
     "metadata": {},
     "output_type": "execute_result"
    }
   ],
   "source": [
    "customers.loc[customers.CustomerID == 'Null']"
   ]
  },
  {
   "cell_type": "markdown",
   "metadata": {},
   "source": [
    "There are 139315 records in which the CustomerID is not known. This is not good. This means that invoices have a Null foreign key in place of the CustomerID and the invoice cannot be assigned to a customer.<br />\n",
    "I could resolve this by merging the tables invoices and customers, grouping by InvoiceNo and assigning a new value to CustomerID where Null appears in an invoice. Running the risk of assigning a new ID to an existing customer."
   ]
  },
  {
   "cell_type": "markdown",
   "metadata": {},
   "source": [
    "Are there any invoices that do not have an ID?"
   ]
  },
  {
   "cell_type": "code",
   "execution_count": 28,
   "metadata": {},
   "outputs": [
    {
     "data": {
      "text/html": [
       "<div>\n",
       "<style scoped>\n",
       "    .dataframe tbody tr th:only-of-type {\n",
       "        vertical-align: middle;\n",
       "    }\n",
       "\n",
       "    .dataframe tbody tr th {\n",
       "        vertical-align: top;\n",
       "    }\n",
       "\n",
       "    .dataframe thead th {\n",
       "        text-align: right;\n",
       "    }\n",
       "</style>\n",
       "<table border=\"1\" class=\"dataframe\">\n",
       "  <thead>\n",
       "    <tr style=\"text-align: right;\">\n",
       "      <th></th>\n",
       "      <th>InvoiceNo</th>\n",
       "      <th>ASIN</th>\n",
       "      <th>Quantity</th>\n",
       "      <th>price</th>\n",
       "      <th>total_sale</th>\n",
       "      <th>invoice_date</th>\n",
       "      <th>invoice_time</th>\n",
       "      <th>CustomerID</th>\n",
       "    </tr>\n",
       "  </thead>\n",
       "  <tbody>\n",
       "  </tbody>\n",
       "</table>\n",
       "</div>"
      ],
      "text/plain": [
       "Empty DataFrame\n",
       "Columns: [InvoiceNo, ASIN, Quantity, price, total_sale, invoice_date, invoice_time, CustomerID]\n",
       "Index: []"
      ]
     },
     "execution_count": 28,
     "metadata": {},
     "output_type": "execute_result"
    }
   ],
   "source": [
    "invoices.loc[invoices.InvoiceNo == 'Null']"
   ]
  },
  {
   "cell_type": "markdown",
   "metadata": {},
   "source": [
    "Thankfully there are no invoices that do not have an ID or are empty. Therefore customerIDs where there is a Null can be assigned a new ID based on an invoice.<br />\n",
    "But there are of course null ASINs in the invoices which cannot be assigned to a product."
   ]
  },
  {
   "cell_type": "markdown",
   "metadata": {},
   "source": [
    "### Modifications"
   ]
  },
  {
   "cell_type": "code",
   "execution_count": 29,
   "metadata": {},
   "outputs": [],
   "source": [
    "# In products: insert StockCode after ASIN to create a combined primary key\n",
    "extracted_col = stock['StockCode']\n",
    "products.insert(1, 'StockCode', extracted_col)\n",
    "\n",
    "# insert price of a single item\n",
    "extracted_col = invoices['price']\n",
    "products.insert(4, 'price', extracted_col)"
   ]
  },
  {
   "cell_type": "code",
   "execution_count": 30,
   "metadata": {},
   "outputs": [],
   "source": [
    "# In products: insert assessment; since there are no distinct reviews (with reviews) but only aggregated ones, it does not\n",
    "# make sense to keep them in a separate table\n",
    "products['rating'] = pd.Series(assessment['rating'])\n",
    "products['review_count'] = pd.Series(assessment['review_count'])"
   ]
  },
  {
   "cell_type": "code",
   "execution_count": 31,
   "metadata": {},
   "outputs": [
    {
     "data": {
      "text/plain": [
       "Index(['ASIN', 'StockCode', 'title', 'product_type', 'price', 'rating',\n",
       "       'review_count'],\n",
       "      dtype='object')"
      ]
     },
     "execution_count": 31,
     "metadata": {},
     "output_type": "execute_result"
    }
   ],
   "source": [
    "products.columns"
   ]
  },
  {
   "cell_type": "code",
   "execution_count": 32,
   "metadata": {},
   "outputs": [],
   "source": [
    "# Create a copy of invoices as a linking table to create a many-to-many relationship \n",
    "# between products and invoice.\n",
    "# Could probably do this with slice too\n",
    "invoice_product = invoices.copy()\n",
    "\n",
    "# In invoice_product: insert StockCode and product_type after ASIN to create a combined foreign key\n",
    "extracted_col = stock['StockCode']\n",
    "invoice_product.insert(2, 'StockCode', extracted_col)\n",
    "extracted_col = products['product_type']\n",
    "invoice_product.insert(3, 'product_type', extracted_col)\n",
    "\n",
    "# Delete not needed columns\n",
    "invoice_product = invoice_product.drop(['invoice_date', 'invoice_time', 'CustomerID'], axis=1)"
   ]
  },
  {
   "cell_type": "code",
   "execution_count": 33,
   "metadata": {},
   "outputs": [],
   "source": [
    "# Delete columns from invoices now in invoice_products\n",
    "invoices = invoices.drop(['ASIN', 'Quantity', 'price', 'total_sale'], axis=1)\n"
   ]
  },
  {
   "cell_type": "code",
   "execution_count": 34,
   "metadata": {},
   "outputs": [],
   "source": [
    "# Transfer the customers table over to the invoice table\n",
    "invoices['CustomerID'] = pd.Series(customers['CustomerID'])\n",
    "invoices['Country'] = pd.Series(customers['Country'])"
   ]
  },
  {
   "cell_type": "markdown",
   "metadata": {},
   "source": [
    "Begin: Testing the customerID assignment"
   ]
  },
  {
   "cell_type": "code",
   "execution_count": 35,
   "metadata": {},
   "outputs": [],
   "source": [
    "invoices1 = invoices.copy()"
   ]
  },
  {
   "cell_type": "code",
   "execution_count": 36,
   "metadata": {},
   "outputs": [],
   "source": [
    "# Show me the invoices that do not have a CustomerID\n",
    "null_invoice = invoices1.loc[invoices1.CustomerID == 'Null']"
   ]
  },
  {
   "cell_type": "code",
   "execution_count": 37,
   "metadata": {},
   "outputs": [],
   "source": [
    "# Assign 9+last four digits of invoice number to CustomerID == Null\n",
    "# That way we can keep the invoices with Null Customers and assign a \"temporary\" ID to Null Customers\n",
    "for index, row in invoices1.iterrows():\n",
    "    if row['CustomerID'] == 'Null':\n",
    "        invoices1.at[index, 'CustomerID'] = '9' + str(row['InvoiceNo'])[-4:]\n"
   ]
  },
  {
   "cell_type": "code",
   "execution_count": 38,
   "metadata": {},
   "outputs": [
    {
     "data": {
      "text/html": [
       "<div>\n",
       "<style scoped>\n",
       "    .dataframe tbody tr th:only-of-type {\n",
       "        vertical-align: middle;\n",
       "    }\n",
       "\n",
       "    .dataframe tbody tr th {\n",
       "        vertical-align: top;\n",
       "    }\n",
       "\n",
       "    .dataframe thead th {\n",
       "        text-align: right;\n",
       "    }\n",
       "</style>\n",
       "<table border=\"1\" class=\"dataframe\">\n",
       "  <thead>\n",
       "    <tr style=\"text-align: right;\">\n",
       "      <th></th>\n",
       "      <th>InvoiceNo</th>\n",
       "      <th>CustomerID</th>\n",
       "      <th>count</th>\n",
       "    </tr>\n",
       "  </thead>\n",
       "  <tbody>\n",
       "    <tr>\n",
       "      <th>0</th>\n",
       "      <td>78536544</td>\n",
       "      <td>96544</td>\n",
       "      <td>551</td>\n",
       "    </tr>\n",
       "    <tr>\n",
       "      <th>1</th>\n",
       "      <td>78536555</td>\n",
       "      <td>96555</td>\n",
       "      <td>2</td>\n",
       "    </tr>\n",
       "    <tr>\n",
       "      <th>2</th>\n",
       "      <td>78536558</td>\n",
       "      <td>96558</td>\n",
       "      <td>1</td>\n",
       "    </tr>\n",
       "    <tr>\n",
       "      <th>3</th>\n",
       "      <td>78536565</td>\n",
       "      <td>96565</td>\n",
       "      <td>2</td>\n",
       "    </tr>\n",
       "    <tr>\n",
       "      <th>4</th>\n",
       "      <td>78536592</td>\n",
       "      <td>96592</td>\n",
       "      <td>618</td>\n",
       "    </tr>\n",
       "    <tr>\n",
       "      <th>...</th>\n",
       "      <td>...</td>\n",
       "      <td>...</td>\n",
       "      <td>...</td>\n",
       "    </tr>\n",
       "    <tr>\n",
       "      <th>2045</th>\n",
       "      <td>78581497</td>\n",
       "      <td>91497</td>\n",
       "      <td>60</td>\n",
       "    </tr>\n",
       "    <tr>\n",
       "      <th>2046</th>\n",
       "      <td>78581498</td>\n",
       "      <td>91498</td>\n",
       "      <td>233</td>\n",
       "    </tr>\n",
       "    <tr>\n",
       "      <th>2047</th>\n",
       "      <td>78A563185</td>\n",
       "      <td>93185</td>\n",
       "      <td>1</td>\n",
       "    </tr>\n",
       "    <tr>\n",
       "      <th>2048</th>\n",
       "      <td>78A563186</td>\n",
       "      <td>93186</td>\n",
       "      <td>1</td>\n",
       "    </tr>\n",
       "    <tr>\n",
       "      <th>2049</th>\n",
       "      <td>78A563187</td>\n",
       "      <td>93187</td>\n",
       "      <td>1</td>\n",
       "    </tr>\n",
       "  </tbody>\n",
       "</table>\n",
       "<p>2050 rows × 3 columns</p>\n",
       "</div>"
      ],
      "text/plain": [
       "      InvoiceNo CustomerID  count\n",
       "0      78536544      96544    551\n",
       "1      78536555      96555      2\n",
       "2      78536558      96558      1\n",
       "3      78536565      96565      2\n",
       "4      78536592      96592    618\n",
       "...         ...        ...    ...\n",
       "2045   78581497      91497     60\n",
       "2046   78581498      91498    233\n",
       "2047  78A563185      93185      1\n",
       "2048  78A563186      93186      1\n",
       "2049  78A563187      93187      1\n",
       "\n",
       "[2050 rows x 3 columns]"
      ]
     },
     "execution_count": 38,
     "metadata": {},
     "output_type": "execute_result"
    }
   ],
   "source": [
    "# Check and compare null_invoice to the newly assigned\n",
    "new_df = invoices1.loc[invoices1['CustomerID'].str.startswith('9', na=False)].copy()\n",
    "new_df.groupby(['InvoiceNo', 'CustomerID']).size().reset_index().rename(columns={0:'count'})"
   ]
  },
  {
   "cell_type": "code",
   "execution_count": 39,
   "metadata": {},
   "outputs": [
    {
     "data": {
      "text/html": [
       "<div>\n",
       "<style scoped>\n",
       "    .dataframe tbody tr th:only-of-type {\n",
       "        vertical-align: middle;\n",
       "    }\n",
       "\n",
       "    .dataframe tbody tr th {\n",
       "        vertical-align: top;\n",
       "    }\n",
       "\n",
       "    .dataframe thead th {\n",
       "        text-align: right;\n",
       "    }\n",
       "</style>\n",
       "<table border=\"1\" class=\"dataframe\">\n",
       "  <thead>\n",
       "    <tr style=\"text-align: right;\">\n",
       "      <th></th>\n",
       "      <th>InvoiceNo</th>\n",
       "      <th>CustomerID</th>\n",
       "      <th>count</th>\n",
       "    </tr>\n",
       "  </thead>\n",
       "  <tbody>\n",
       "    <tr>\n",
       "      <th>0</th>\n",
       "      <td>78536544</td>\n",
       "      <td>Null</td>\n",
       "      <td>551</td>\n",
       "    </tr>\n",
       "    <tr>\n",
       "      <th>1</th>\n",
       "      <td>78536555</td>\n",
       "      <td>Null</td>\n",
       "      <td>2</td>\n",
       "    </tr>\n",
       "    <tr>\n",
       "      <th>2</th>\n",
       "      <td>78536558</td>\n",
       "      <td>Null</td>\n",
       "      <td>1</td>\n",
       "    </tr>\n",
       "    <tr>\n",
       "      <th>3</th>\n",
       "      <td>78536565</td>\n",
       "      <td>Null</td>\n",
       "      <td>2</td>\n",
       "    </tr>\n",
       "    <tr>\n",
       "      <th>4</th>\n",
       "      <td>78536592</td>\n",
       "      <td>Null</td>\n",
       "      <td>618</td>\n",
       "    </tr>\n",
       "    <tr>\n",
       "      <th>...</th>\n",
       "      <td>...</td>\n",
       "      <td>...</td>\n",
       "      <td>...</td>\n",
       "    </tr>\n",
       "    <tr>\n",
       "      <th>2045</th>\n",
       "      <td>78581497</td>\n",
       "      <td>Null</td>\n",
       "      <td>60</td>\n",
       "    </tr>\n",
       "    <tr>\n",
       "      <th>2046</th>\n",
       "      <td>78581498</td>\n",
       "      <td>Null</td>\n",
       "      <td>233</td>\n",
       "    </tr>\n",
       "    <tr>\n",
       "      <th>2047</th>\n",
       "      <td>78A563185</td>\n",
       "      <td>Null</td>\n",
       "      <td>1</td>\n",
       "    </tr>\n",
       "    <tr>\n",
       "      <th>2048</th>\n",
       "      <td>78A563186</td>\n",
       "      <td>Null</td>\n",
       "      <td>1</td>\n",
       "    </tr>\n",
       "    <tr>\n",
       "      <th>2049</th>\n",
       "      <td>78A563187</td>\n",
       "      <td>Null</td>\n",
       "      <td>1</td>\n",
       "    </tr>\n",
       "  </tbody>\n",
       "</table>\n",
       "<p>2050 rows × 3 columns</p>\n",
       "</div>"
      ],
      "text/plain": [
       "      InvoiceNo CustomerID  count\n",
       "0      78536544       Null    551\n",
       "1      78536555       Null      2\n",
       "2      78536558       Null      1\n",
       "3      78536565       Null      2\n",
       "4      78536592       Null    618\n",
       "...         ...        ...    ...\n",
       "2045   78581497       Null     60\n",
       "2046   78581498       Null    233\n",
       "2047  78A563185       Null      1\n",
       "2048  78A563186       Null      1\n",
       "2049  78A563187       Null      1\n",
       "\n",
       "[2050 rows x 3 columns]"
      ]
     },
     "execution_count": 39,
     "metadata": {},
     "output_type": "execute_result"
    }
   ],
   "source": [
    "null_invoice.groupby(['InvoiceNo', 'CustomerID']).size().reset_index().rename(columns={0:'count'})"
   ]
  },
  {
   "cell_type": "markdown",
   "metadata": {},
   "source": [
    "End: Testing the customerID assignment"
   ]
  },
  {
   "cell_type": "code",
   "execution_count": 40,
   "metadata": {},
   "outputs": [],
   "source": [
    "# Assign temporary IDs to Null CustomerIDs in invoices with an initial 9\n",
    "# Why the trouble? Each invoice with a Null customerID can now be associated with an\n",
    "# individual Null customer instead of lumping all Nulls together (n.b. will screw up \n",
    "# your country analysis). If that customer already had an ID or has another invoice \n",
    "# as Null is irrelevant. This way we do not have to discard the Null records in invoice\n",
    "# and customers.\n",
    "for index, row in invoices.iterrows():\n",
    "    if row['CustomerID'] == 'Null':\n",
    "        invoices.at[index, 'CustomerID'] = '9' + str(row['InvoiceNo'])[-4:]"
   ]
  },
  {
   "cell_type": "code",
   "execution_count": 41,
   "metadata": {},
   "outputs": [],
   "source": [
    "# Transfer the customers back over to the customer table\n",
    "customers['CustomerID'] = pd.Series(invoices['CustomerID'])\n",
    "customers['Country'] = pd.Series(invoices['Country'])\n",
    "\n",
    "# And drop the customers' country in the invoices table\n",
    "invoices = invoices.drop(['Country'], axis=1)"
   ]
  },
  {
   "cell_type": "code",
   "execution_count": 42,
   "metadata": {},
   "outputs": [],
   "source": [
    "# in stock: drop ASIN, delete duplicates\n",
    "# in assessment: drop entire dataframe\n",
    "# in products: delete duplicates\n",
    "# in customers: delete duplicates\n",
    "# in invoices: delete duplicates\n",
    "# in invoice_product: delete duplicates, delete price"
   ]
  },
  {
   "cell_type": "code",
   "execution_count": 43,
   "metadata": {},
   "outputs": [],
   "source": [
    "# Need this for counting the countries of each duplicate CustomerID later\n",
    "customers_orig = customers.copy()"
   ]
  },
  {
   "cell_type": "code",
   "execution_count": 44,
   "metadata": {},
   "outputs": [],
   "source": [
    "stock = stock.drop(['ASIN'], axis=1)\n",
    "stock = stock.drop_duplicates()\n",
    "\n",
    "products = products.drop_duplicates()\n",
    "\n",
    "customers = customers.drop_duplicates()\n",
    "\n",
    "invoices = invoices.drop_duplicates()\n",
    "\n",
    "invoice_product = invoice_product.drop_duplicates()\n",
    "invoice_product = invoice_product.drop(['price'], axis=1)"
   ]
  },
  {
   "cell_type": "markdown",
   "metadata": {},
   "source": [
    "Check for duplicates in what will be the primary keys.<br />\n",
    "There are 18 duplicates in the customers table, 10 of which are temporary 9-er IDs, meaning some of the InvoiceNo either ended in the same 4 digits or the Country is different for that ID."
   ]
  },
  {
   "cell_type": "code",
   "execution_count": 45,
   "metadata": {},
   "outputs": [
    {
     "data": {
      "text/html": [
       "<div>\n",
       "<style scoped>\n",
       "    .dataframe tbody tr th:only-of-type {\n",
       "        vertical-align: middle;\n",
       "    }\n",
       "\n",
       "    .dataframe tbody tr th {\n",
       "        vertical-align: top;\n",
       "    }\n",
       "\n",
       "    .dataframe thead th {\n",
       "        text-align: right;\n",
       "    }\n",
       "</style>\n",
       "<table border=\"1\" class=\"dataframe\">\n",
       "  <thead>\n",
       "    <tr style=\"text-align: right;\">\n",
       "      <th></th>\n",
       "      <th>CustomerID</th>\n",
       "      <th>Country</th>\n",
       "    </tr>\n",
       "  </thead>\n",
       "  <tbody>\n",
       "    <tr>\n",
       "      <th>29852</th>\n",
       "      <td>12370</td>\n",
       "      <td>Cyprus</td>\n",
       "    </tr>\n",
       "    <tr>\n",
       "      <th>35444</th>\n",
       "      <td>12370</td>\n",
       "      <td>Austria</td>\n",
       "    </tr>\n",
       "    <tr>\n",
       "      <th>180899</th>\n",
       "      <td>12394</td>\n",
       "      <td>Belgium</td>\n",
       "    </tr>\n",
       "    <tr>\n",
       "      <th>392660</th>\n",
       "      <td>12394</td>\n",
       "      <td>Denmark</td>\n",
       "    </tr>\n",
       "    <tr>\n",
       "      <th>35415</th>\n",
       "      <td>12417</td>\n",
       "      <td>Belgium</td>\n",
       "    </tr>\n",
       "    <tr>\n",
       "      <th>174672</th>\n",
       "      <td>12417</td>\n",
       "      <td>Spain</td>\n",
       "    </tr>\n",
       "    <tr>\n",
       "      <th>64973</th>\n",
       "      <td>12422</td>\n",
       "      <td>Australia</td>\n",
       "    </tr>\n",
       "    <tr>\n",
       "      <th>244572</th>\n",
       "      <td>12422</td>\n",
       "      <td>Switzerland</td>\n",
       "    </tr>\n",
       "    <tr>\n",
       "      <th>20537</th>\n",
       "      <td>12429</td>\n",
       "      <td>Denmark</td>\n",
       "    </tr>\n",
       "    <tr>\n",
       "      <th>171442</th>\n",
       "      <td>12429</td>\n",
       "      <td>Austria</td>\n",
       "    </tr>\n",
       "    <tr>\n",
       "      <th>494</th>\n",
       "      <td>12431</td>\n",
       "      <td>Australia</td>\n",
       "    </tr>\n",
       "    <tr>\n",
       "      <th>94596</th>\n",
       "      <td>12431</td>\n",
       "      <td>Belgium</td>\n",
       "    </tr>\n",
       "    <tr>\n",
       "      <th>93229</th>\n",
       "      <td>12455</td>\n",
       "      <td>Cyprus</td>\n",
       "    </tr>\n",
       "    <tr>\n",
       "      <th>217015</th>\n",
       "      <td>12455</td>\n",
       "      <td>Spain</td>\n",
       "    </tr>\n",
       "    <tr>\n",
       "      <th>158818</th>\n",
       "      <td>12457</td>\n",
       "      <td>Switzerland</td>\n",
       "    </tr>\n",
       "    <tr>\n",
       "      <th>355147</th>\n",
       "      <td>12457</td>\n",
       "      <td>Cyprus</td>\n",
       "    </tr>\n",
       "    <tr>\n",
       "      <th>66473</th>\n",
       "      <td>91652</td>\n",
       "      <td>Germany</td>\n",
       "    </tr>\n",
       "    <tr>\n",
       "      <th>412415</th>\n",
       "      <td>91652</td>\n",
       "      <td>Hong Kong</td>\n",
       "    </tr>\n",
       "    <tr>\n",
       "      <th>186684</th>\n",
       "      <td>92540</td>\n",
       "      <td>Ireland</td>\n",
       "    </tr>\n",
       "    <tr>\n",
       "      <th>423207</th>\n",
       "      <td>92540</td>\n",
       "      <td>Germany</td>\n",
       "    </tr>\n",
       "    <tr>\n",
       "      <th>76014</th>\n",
       "      <td>92541</td>\n",
       "      <td>Germany</td>\n",
       "    </tr>\n",
       "    <tr>\n",
       "      <th>186682</th>\n",
       "      <td>92541</td>\n",
       "      <td>Ireland</td>\n",
       "    </tr>\n",
       "    <tr>\n",
       "      <th>310148</th>\n",
       "      <td>93547</td>\n",
       "      <td>Ireland</td>\n",
       "    </tr>\n",
       "    <tr>\n",
       "      <th>439857</th>\n",
       "      <td>93547</td>\n",
       "      <td>Germany</td>\n",
       "    </tr>\n",
       "    <tr>\n",
       "      <th>222121</th>\n",
       "      <td>95927</td>\n",
       "      <td>Germany</td>\n",
       "    </tr>\n",
       "    <tr>\n",
       "      <th>338610</th>\n",
       "      <td>95927</td>\n",
       "      <td>Ireland</td>\n",
       "    </tr>\n",
       "    <tr>\n",
       "      <th>338603</th>\n",
       "      <td>95928</td>\n",
       "      <td>Ireland</td>\n",
       "    </tr>\n",
       "    <tr>\n",
       "      <th>470097</th>\n",
       "      <td>95928</td>\n",
       "      <td>Germany</td>\n",
       "    </tr>\n",
       "    <tr>\n",
       "      <th>2665</th>\n",
       "      <td>96558</td>\n",
       "      <td>Germany</td>\n",
       "    </tr>\n",
       "    <tr>\n",
       "      <th>123078</th>\n",
       "      <td>96558</td>\n",
       "      <td>Hong Kong</td>\n",
       "    </tr>\n",
       "    <tr>\n",
       "      <th>17883</th>\n",
       "      <td>97675</td>\n",
       "      <td>Germany</td>\n",
       "    </tr>\n",
       "    <tr>\n",
       "      <th>241498</th>\n",
       "      <td>97675</td>\n",
       "      <td>Hong Kong</td>\n",
       "    </tr>\n",
       "    <tr>\n",
       "      <th>35429</th>\n",
       "      <td>99337</td>\n",
       "      <td>Ireland</td>\n",
       "    </tr>\n",
       "    <tr>\n",
       "      <th>259759</th>\n",
       "      <td>99337</td>\n",
       "      <td>Germany</td>\n",
       "    </tr>\n",
       "    <tr>\n",
       "      <th>40511</th>\n",
       "      <td>99738</td>\n",
       "      <td>Germany</td>\n",
       "    </tr>\n",
       "    <tr>\n",
       "      <th>156725</th>\n",
       "      <td>99738</td>\n",
       "      <td>Hong Kong</td>\n",
       "    </tr>\n",
       "  </tbody>\n",
       "</table>\n",
       "</div>"
      ],
      "text/plain": [
       "       CustomerID      Country\n",
       "29852       12370       Cyprus\n",
       "35444       12370      Austria\n",
       "180899      12394      Belgium\n",
       "392660      12394      Denmark\n",
       "35415       12417      Belgium\n",
       "174672      12417        Spain\n",
       "64973       12422    Australia\n",
       "244572      12422  Switzerland\n",
       "20537       12429      Denmark\n",
       "171442      12429      Austria\n",
       "494         12431    Australia\n",
       "94596       12431      Belgium\n",
       "93229       12455       Cyprus\n",
       "217015      12455        Spain\n",
       "158818      12457  Switzerland\n",
       "355147      12457       Cyprus\n",
       "66473       91652      Germany\n",
       "412415      91652    Hong Kong\n",
       "186684      92540      Ireland\n",
       "423207      92540      Germany\n",
       "76014       92541      Germany\n",
       "186682      92541      Ireland\n",
       "310148      93547      Ireland\n",
       "439857      93547      Germany\n",
       "222121      95927      Germany\n",
       "338610      95927      Ireland\n",
       "338603      95928      Ireland\n",
       "470097      95928      Germany\n",
       "2665        96558      Germany\n",
       "123078      96558    Hong Kong\n",
       "17883       97675      Germany\n",
       "241498      97675    Hong Kong\n",
       "35429       99337      Ireland\n",
       "259759      99337      Germany\n",
       "40511       99738      Germany\n",
       "156725      99738    Hong Kong"
      ]
     },
     "execution_count": 45,
     "metadata": {},
     "output_type": "execute_result"
    }
   ],
   "source": [
    "#print(customers[customers['CustomerID'].duplicated() == True])\n",
    "\n",
    "# Compare the 18 duplicates\n",
    "pd.concat(g for _, g in customers.groupby('CustomerID') if len(g) > 1)"
   ]
  },
  {
   "cell_type": "markdown",
   "metadata": {},
   "source": [
    "What to do?"
   ]
  },
  {
   "cell_type": "code",
   "execution_count": 46,
   "metadata": {},
   "outputs": [
    {
     "name": "stdout",
     "output_type": "stream",
     "text": [
      "Germany                 5788\n",
      "United Kingdom           103\n",
      "France                    90\n",
      "Ireland                   31\n",
      "Spain                     30\n",
      "Belgium                   25\n",
      "Switzerland               24\n",
      "Portugal                  20\n",
      "Italy                     14\n",
      "Finland                   12\n",
      "Austria                   11\n",
      "Norway                    10\n",
      "Hong Kong                 10\n",
      "Unknown                    9\n",
      "Netherlands                9\n",
      "Australia                  9\n",
      "Denmark                    9\n",
      "Sweden                     8\n",
      "Cyprus                     8\n",
      "Japan                      8\n",
      "Israel                     6\n",
      "Poland                     6\n",
      "Canada                     4\n",
      "Greece                     4\n",
      "United States              4\n",
      "Bahrain                    3\n",
      "Malta                      2\n",
      "United Arab Emirates       2\n",
      "Saudi Arabia               1\n",
      "Czech Republic             1\n",
      "Iceland                    1\n",
      "Lebanon                    1\n",
      "Brazil                     1\n",
      "Singapore                  1\n",
      "European Community         1\n",
      "Lithuania                  1\n",
      "South Africa               1\n",
      "Name: Country, dtype: int64\n"
     ]
    }
   ],
   "source": [
    "print(customers['Country'].value_counts())"
   ]
  },
  {
   "cell_type": "markdown",
   "metadata": {},
   "source": [
    "There are some countries where the loss of one instance in customers would hugely impact the statistics.<br />\n",
    "Unless I think of something better, I'll have to go through all 18 and see which country has the largest count, i.e. in the original data, for CustomerID 99999 how many rows are Country x versus Country y, and use the one with the most instances and drop the other.\n",
    "\n",
    "We are using the customers_orig dataframe to count the number of instances of a country (copied before removal of duplicates in customers)."
   ]
  },
  {
   "cell_type": "code",
   "execution_count": 47,
   "metadata": {},
   "outputs": [],
   "source": [
    "# print(customers_orig.Country[customers_orig['CustomerID'] == 12370].value_counts())\n",
    "# Cyprus     166\n",
    "# Austria      9\n",
    "\n",
    "# print(customers_orig.Country[customers_orig['CustomerID'] == 12394].value_counts())\n",
    "# Belgium    20\n",
    "# Denmark     6\n",
    "\n",
    "# print(customers_orig.Country[customers_orig['CustomerID'] == 12417].value_counts())\n",
    "# Belgium    166\n",
    "# Spain       23\n",
    "\n",
    "# print(customers_orig.Country[customers_orig['CustomerID'] == 12422].value_counts())\n",
    "# Australia      22\n",
    "# Switzerland    17\n",
    "\n",
    "# print(customers_orig.Country[customers_orig['CustomerID'] == 12429].value_counts())\n",
    "# Denmark    76\n",
    "# Austria    20\n",
    "\n",
    "# print(customers_orig.Country[customers_orig['CustomerID'] == 12431].value_counts())\n",
    "# Australia    191\n",
    "# Belgium       53\n",
    "\n",
    "# print(customers_orig.Country[customers_orig['CustomerID'] == 12455].value_counts())\n",
    "# Spain     48\n",
    "# Cyprus    46\n",
    "\n",
    "# print(customers_orig.Country[customers_orig['CustomerID'] == 12457].value_counts())\n",
    "# Switzerland    59\n",
    "# Cyprus          2\n",
    "\n",
    "#------\n",
    "# I have no idea why the temporary IDs generated above (starting with 9...) require \n",
    "# quotation marks to work.\n",
    "#------\n",
    "\n",
    "# print(customers_orig.Country[customers_orig['CustomerID'] == '91652'].value_counts())\n",
    "# Hong Kong    29\n",
    "# Germany       2\n",
    "\n",
    "# print(customers_orig.Country[customers_orig['CustomerID'] == '92540'].value_counts())\n",
    "# Germany    181\n",
    "# Ireland     10\n",
    "\n",
    "# print(customers_orig.Country[customers_orig['CustomerID'] == '92541'].value_counts())\n",
    "# Germany    185\n",
    "# Ireland      2\n",
    "\n",
    "# print(customers_orig.Country[customers_orig['CustomerID'] == '93547'].value_counts())\n",
    "# Ireland    23\n",
    "# Germany     1\n",
    "\n",
    "# print(customers_orig.Country[customers_orig['CustomerID'] == '95927'].value_counts())\n",
    "# Ireland    65\n",
    "# Germany     2\n",
    "\n",
    "# print(customers_orig.Country[customers_orig['CustomerID'] == '95928'].value_counts())\n",
    "# Ireland    46\n",
    "# Germany     1\n",
    "\n",
    "# print(customers_orig.Country[customers_orig['CustomerID'] == '96558'].value_counts())\n",
    "# Germany      1\n",
    "# Hong Kong    1\n",
    "\n",
    "# print(customers_orig.Country[customers_orig['CustomerID'] == '97675'].value_counts())\n",
    "# Hong Kong    15\n",
    "# Germany       1\n",
    "\n",
    "# print(customers_orig.Country[customers_orig['CustomerID'] == '99337'].value_counts())\n",
    "# Germany    307\n",
    "# Ireland     29\n",
    "\n",
    "# print(customers_orig.Country[customers_orig['CustomerID'] == '99738'].value_counts())\n",
    "# Germany      96\n",
    "# Hong Kong    35\n"
   ]
  },
  {
   "cell_type": "code",
   "execution_count": 48,
   "metadata": {},
   "outputs": [],
   "source": [
    "# Dropping the CustomerId+Country combination where in the original data for the CustomerID the country has the least\n",
    "# number of instances.\n",
    "customers.drop(customers[(customers['CustomerID'] == 12370) & (customers['Country'] == 'Austria')].index, inplace = True)\n",
    "customers.drop(customers[(customers['CustomerID'] == 12394) & (customers['Country'] == 'Denmark')].index, inplace = True)\n",
    "customers.drop(customers[(customers['CustomerID'] == 12417) & (customers['Country'] == 'Spain')].index, inplace = True)\n",
    "customers.drop(customers[(customers['CustomerID'] == 12422) & (customers['Country'] == 'Switzerland')].index, inplace = True)\n",
    "customers.drop(customers[(customers['CustomerID'] == 12429) & (customers['Country'] == 'Austria')].index, inplace = True)\n",
    "customers.drop(customers[(customers['CustomerID'] == 12431) & (customers['Country'] == 'Belgium')].index, inplace = True)\n",
    "customers.drop(customers[(customers['CustomerID'] == 12457) & (customers['Country'] == 'Cyprus')].index, inplace = True)\n",
    "customers.drop(customers[(customers['CustomerID'] == '91652') & (customers['Country'] == 'Germany')].index, inplace = True)\n",
    "customers.drop(customers[(customers['CustomerID'] == '92540') & (customers['Country'] == 'Ireland')].index, inplace = True)\n",
    "customers.drop(customers[(customers['CustomerID'] == '92541') & (customers['Country'] == 'Ireland')].index, inplace = True)\n",
    "customers.drop(customers[(customers['CustomerID'] == '93547') & (customers['Country'] == 'Germany')].index, inplace = True)\n",
    "customers.drop(customers[(customers['CustomerID'] == '95927') & (customers['Country'] == 'Germany')].index, inplace = True)\n",
    "customers.drop(customers[(customers['CustomerID'] == '95928') & (customers['Country'] == 'Germany')].index, inplace = True)\n",
    "customers.drop(customers[(customers['CustomerID'] == '97675') & (customers['Country'] == 'Germany')].index, inplace = True)\n",
    "customers.drop(customers[(customers['CustomerID'] == '99337') & (customers['Country'] == 'Ireland')].index, inplace = True)\n",
    "customers.drop(customers[(customers['CustomerID'] == '99738') & (customers['Country'] == 'Hong Kong')].index, inplace = True)\n",
    "\n",
    "# One CustomerID+Country combinations had equal numbers (96558) and one only had a difference of 2 (12455)\n",
    "# In these two cases both records were deleted, as the most likely country could not be determined\n",
    "customers.drop(customers[(customers['CustomerID'] == '96558') | (customers['CustomerID'] == 12455)].index, inplace = True)\n"
   ]
  },
  {
   "cell_type": "markdown",
   "metadata": {},
   "source": [
    "There is one invoice that has a duplicate InvoiceNo. It belongs to an original CustomerID.<br />\n",
    "This did not delete when dropping duplicates because the invoice time is once 11 and once 12. Maybe the order went through just as the hour went from 11 to 12. No way to know without the minutes and seconds or a proper timestamp.<br />\n",
    "I'm dropping the one containing 12 manually, because there are more four times as many rows associated with 11 than 12."
   ]
  },
  {
   "cell_type": "code",
   "execution_count": 49,
   "metadata": {},
   "outputs": [
    {
     "name": "stdout",
     "output_type": "stream",
     "text": [
      "       InvoiceNo invoice_date  invoice_time CustomerID\n",
      "151777  78549245   2019-04-07            12      15005\n"
     ]
    }
   ],
   "source": [
    "print(invoices[invoices['InvoiceNo'].duplicated() == True])"
   ]
  },
  {
   "cell_type": "code",
   "execution_count": 50,
   "metadata": {},
   "outputs": [],
   "source": [
    "invoices.drop(invoices[(invoices['InvoiceNo'] == 78549245) & (invoices['invoice_time'] == 12)].index, inplace = True)"
   ]
  },
  {
   "cell_type": "markdown",
   "metadata": {},
   "source": [
    "There are 186 products that have the same combination of ASIN+StockCode."
   ]
  },
  {
   "cell_type": "code",
   "execution_count": 51,
   "metadata": {},
   "outputs": [
    {
     "name": "stdout",
     "output_type": "stream",
     "text": [
      "186\n"
     ]
    }
   ],
   "source": [
    "print(products.duplicated(subset=['ASIN','StockCode']).sum())"
   ]
  },
  {
   "cell_type": "markdown",
   "metadata": {},
   "source": [
    "ASIN B07KGHFB8N : is listed both as a keyboard and a mouse<br />\n",
    "ASIN B07Y693ND1 : ditto"
   ]
  },
  {
   "cell_type": "code",
   "execution_count": 52,
   "metadata": {},
   "outputs": [
    {
     "name": "stdout",
     "output_type": "stream",
     "text": [
      "              ASIN StockCode  \\\n",
      "1485    B07KGHFB8N     84744   \n",
      "1491    B07Y693ND1     20725   \n",
      "1497    B00FNKMVUO     21232   \n",
      "1498    B007X3VEX4     21258   \n",
      "1501    B07JJGCSHR     21429   \n",
      "...            ...       ...   \n",
      "522780  B07JWHFM2B     20711   \n",
      "543359  B07T8DH3CG     21109   \n",
      "546296  B07RPVG1PD     21688   \n",
      "546297  B07RPVG1PD     21693   \n",
      "546724  B07YBS9PGN     85104   \n",
      "\n",
      "                                                    title product_type  \\\n",
      "1485    Razer Holiday Bundle 2018 Cynosa Chroma Gaming...        mouse   \n",
      "1491    Razer DeathAdder Essential Gaming Mouse: 6400 ...        mouse   \n",
      "1497    UtechSmart Venus Gaming Mouse RGB Wired, 16400...        mouse   \n",
      "1498    iHome Bluetooth Mac Mouse with Scroll Wheel, 3...        mouse   \n",
      "1501    Wireless Keyboard and Mouse, Vssoplor 2.4GHz R...        mouse   \n",
      "...                                                   ...          ...   \n",
      "522780  Comidox Ergonomic Mousepad with Wrist Support ...        mouse   \n",
      "543359  Mini Wireless Keyboard with RGB Backlit, 2.4GH...        mouse   \n",
      "546296  SANWA (Japan Brand) Gel Wrist Rest for Keyboar...        mouse   \n",
      "546297  SANWA (Japan Brand) Gel Wrist Rest for Keyboar...        mouse   \n",
      "546724  2019 14\" Laptop - Intel Quad-Core Atom x5 E800...    processor   \n",
      "\n",
      "         price  rating  review_count  \n",
      "1485    169.00     4.6           144  \n",
      "1491     29.99     4.5          9599  \n",
      "1497     32.99     4.5          6596  \n",
      "1498     29.99     4.2           714  \n",
      "1501     55.99     4.4          1377  \n",
      "...        ...     ...           ...  \n",
      "522780    9.99     4.9            71  \n",
      "543359   13.99     3.8            69  \n",
      "546296   18.99     4.5            85  \n",
      "546297   18.99     4.5            85  \n",
      "546724  229.99     3.2            75  \n",
      "\n",
      "[186 rows x 7 columns]\n"
     ]
    }
   ],
   "source": [
    "print(products[products.duplicated(subset=['ASIN','StockCode']) == True])"
   ]
  },
  {
   "cell_type": "markdown",
   "metadata": {},
   "source": [
    "Okay, how about ASIN+StockCode+product_type as Primary Key?"
   ]
  },
  {
   "cell_type": "code",
   "execution_count": 53,
   "metadata": {},
   "outputs": [
    {
     "name": "stdout",
     "output_type": "stream",
     "text": [
      "0\n"
     ]
    }
   ],
   "source": [
    "print(products.duplicated(subset=['ASIN','StockCode','product_type']).sum())"
   ]
  },
  {
   "cell_type": "markdown",
   "metadata": {},
   "source": [
    "This is rather a long Primary Key but would work if we did not want to add an additional individual key."
   ]
  },
  {
   "cell_type": "markdown",
   "metadata": {},
   "source": [
    "Write the dataframes stock, products, customers, invoices, invoice_product to a database.<br />\n",
    "First try SQLite and then try mySQL."
   ]
  },
  {
   "cell_type": "code",
   "execution_count": 54,
   "metadata": {},
   "outputs": [],
   "source": [
    "# Create a file sales_database.db in the data directory [of what? SQLite? Jupyter?]\n",
    "# This file is an empty SQLite database with sales_db pointing to the database.\n",
    "sales_db = sqlite3.connect(\"sales_database.db\")"
   ]
  },
  {
   "cell_type": "code",
   "execution_count": 55,
   "metadata": {},
   "outputs": [],
   "source": [
    "# Establishing a cursor object that executes SQL code against the database\n",
    "c = sales_db.cursor()"
   ]
  },
  {
   "cell_type": "code",
   "execution_count": 56,
   "metadata": {},
   "outputs": [
    {
     "data": {
      "text/plain": [
       "Index(['StockCode'], dtype='object')"
      ]
     },
     "execution_count": 56,
     "metadata": {},
     "output_type": "execute_result"
    }
   ],
   "source": [
    "stock.columns"
   ]
  },
  {
   "cell_type": "code",
   "execution_count": 57,
   "metadata": {},
   "outputs": [
    {
     "data": {
      "text/plain": [
       "Index(['CustomerID', 'Country'], dtype='object')"
      ]
     },
     "execution_count": 57,
     "metadata": {},
     "output_type": "execute_result"
    }
   ],
   "source": [
    "customers.columns"
   ]
  },
  {
   "cell_type": "code",
   "execution_count": 58,
   "metadata": {},
   "outputs": [
    {
     "data": {
      "text/plain": [
       "Index(['InvoiceNo', 'invoice_date', 'invoice_time', 'CustomerID'], dtype='object')"
      ]
     },
     "execution_count": 58,
     "metadata": {},
     "output_type": "execute_result"
    }
   ],
   "source": [
    "invoices.columns"
   ]
  },
  {
   "cell_type": "code",
   "execution_count": 59,
   "metadata": {},
   "outputs": [
    {
     "data": {
      "text/plain": [
       "Index(['InvoiceNo', 'ASIN', 'StockCode', 'product_type', 'Quantity',\n",
       "       'total_sale'],\n",
       "      dtype='object')"
      ]
     },
     "execution_count": 59,
     "metadata": {},
     "output_type": "execute_result"
    }
   ],
   "source": [
    "invoice_product.columns"
   ]
  },
  {
   "cell_type": "code",
   "execution_count": 60,
   "metadata": {},
   "outputs": [
    {
     "data": {
      "text/plain": [
       "Index(['ASIN', 'StockCode', 'title', 'product_type', 'price', 'rating',\n",
       "       'review_count'],\n",
       "      dtype='object')"
      ]
     },
     "execution_count": 60,
     "metadata": {},
     "output_type": "execute_result"
    }
   ],
   "source": [
    "products.columns"
   ]
  },
  {
   "cell_type": "markdown",
   "metadata": {},
   "source": [
    "### Create and populate an SQLite database"
   ]
  },
  {
   "cell_type": "code",
   "execution_count": null,
   "metadata": {},
   "outputs": [],
   "source": [
    "# Create empty tables in the database sales_database.db\n",
    "c.execute(\n",
    "    \"\"\"\n",
    "    CREATE TABLE stock (\n",
    "        StockCode TEXT,\n",
    "        PRIMARY KEY(StockCode)\n",
    "        );\n",
    "    \"\"\"\n",
    ")\n",
    "\n",
    "c.execute(\n",
    "    \"\"\"\n",
    "    CREATE TABLE customers (\n",
    "        CustomerID INTEGER,\n",
    "        Country TEXT,\n",
    "        PRIMARY KEY(CustomerID)\n",
    "        );\n",
    "    \"\"\"\n",
    ")\n",
    "\n",
    "c.execute(\n",
    "    \"\"\"\n",
    "    CREATE TABLE invoices (\n",
    "        InvoiceNo TEXT,\n",
    "        invoice_date TEXT,\n",
    "        invoice_time INTEGER,\n",
    "        CustomerID INTEGER,\n",
    "        PRIMARY KEY(InvoiceNo),\n",
    "        FOREIGN KEY(CustomerID) REFERENCES customers(CustomerID)\n",
    "        );\n",
    "    \"\"\"\n",
    ")\n",
    "\n",
    "c.execute(\n",
    "    \"\"\"\n",
    "    CREATE TABLE invoice_product (\n",
    "        InvoiceNo TEXT,\n",
    "        ASIN TEXT,\n",
    "        StockCode TEXT,\n",
    "        product_type TEXT,\n",
    "        Quantity INTEGER,\n",
    "        total_sale REAL,\n",
    "        FOREIGN KEY(ASIN, StockCode, product_type) REFERENCES products(ASIN, StockCode, product_type),\n",
    "        FOREIGN KEY(InvoiceNo) REFERENCES invoices(InvoiceNo)\n",
    "        );\n",
    "    \"\"\"\n",
    ")\n",
    "\n",
    "c.execute(\n",
    "    \"\"\"\n",
    "    CREATE TABLE products (\n",
    "        ASIN TEXT,\n",
    "        StockCode TEXT,\n",
    "        title TEXT,\n",
    "        product_type TEXT,\n",
    "        price REAL,\n",
    "        rating REAL,\n",
    "        review_count INTEGER,\n",
    "        PRIMARY KEY(ASIN, StockCode, product_type),\n",
    "        FOREIGN KEY(StockCode) REFERENCES stock(StockCode)\n",
    "        );\n",
    "    \"\"\"\n",
    ")\n"
   ]
  },
  {
   "cell_type": "code",
   "execution_count": null,
   "metadata": {},
   "outputs": [],
   "source": [
    "# populate\n",
    "stock.to_sql('stock', sales_db, if_exists='append', index=False)\n",
    "invoices.to_sql('invoices', sales_db, if_exists='append', index=False)\n",
    "customers.to_sql('customers', sales_db, if_exists='append', index=False)\n",
    "products.to_sql('products', sales_db, if_exists='append', index=False)\n",
    "invoice_product.to_sql('invoice_product', sales_db, if_exists='append', index=False)"
   ]
  },
  {
   "cell_type": "code",
   "execution_count": 45,
   "metadata": {},
   "outputs": [],
   "source": [
    "# close connection\n",
    "sales_db = sqlite3.connect(\"sales_database.db\")"
   ]
  },
  {
   "cell_type": "markdown",
   "metadata": {},
   "source": [
    "### Create and populate a mySQL database"
   ]
  },
  {
   "cell_type": "markdown",
   "metadata": {},
   "source": [
    "Discontinued because of unresolved permissions issues. Will try again at a later time."
   ]
  }
 ],
 "metadata": {
  "interpreter": {
   "hash": "b5cfa023891fceef02537f80a4c6e95b77988fb973cdb16a51cdb785092210be"
  },
  "kernelspec": {
   "display_name": "Python 3.9.7",
   "language": "python",
   "name": "python3"
  },
  "language_info": {
   "codemirror_mode": {
    "name": "ipython",
    "version": 3
   },
   "file_extension": ".py",
   "mimetype": "text/x-python",
   "name": "python",
   "nbconvert_exporter": "python",
   "pygments_lexer": "ipython3",
   "version": "3.9.12"
  },
  "orig_nbformat": 4
 },
 "nbformat": 4,
 "nbformat_minor": 2
}
